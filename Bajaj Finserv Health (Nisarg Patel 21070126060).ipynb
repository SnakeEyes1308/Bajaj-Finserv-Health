{
 "cells": [
  {
   "cell_type": "code",
   "execution_count": 1,
   "id": "initial_id",
   "metadata": {
    "collapsed": true,
    "ExecuteTime": {
     "end_time": "2024-07-19T04:33:40.057892Z",
     "start_time": "2024-07-19T04:33:39.637583Z"
    }
   },
   "outputs": [
    {
     "name": "stdout",
     "output_type": "stream",
     "text": [
      "        _id appointmentId  phoneNumber patientDetails__id  \\\n",
      "0  T6hf3rb5     40d2-9c9f  96686896670          T6hb630b3   \n",
      "1  T65g3rb5      40dbtc9f   9496368916          T6h33b300   \n",
      "2  T7g6Srb5      g3Wt5c9f   7787204833           TjhB4373   \n",
      "3  94bg8W8d      fb6-a535   9376756879            6df4R5b   \n",
      "4  T6h8H56c       67h7KL9   5267384241           lK9hy06a   \n",
      "\n",
      "  patientDetails_firstName patientDetails_lastName patientDetails_emailId  \\\n",
      "0                      Css                                                  \n",
      "1                   Lokesh                                                  \n",
      "2                    Shila                     Das                          \n",
      "3                  Bhavika             Ben Panchal                          \n",
      "4               Raghu Viju                                                  \n",
      "\n",
      "  patientDetails_gender patientDetails_alternateContact  \\\n",
      "0                                                         \n",
      "1                     M                             NaN   \n",
      "2                   NaN                             NaN   \n",
      "3                     F                             NaN   \n",
      "4                   NaN                                   \n",
      "\n",
      "   patientDetails_birthDate  ... consultationData_procedures  \\\n",
      "0                      None  ...                          []   \n",
      "1  1996-05-16T18:30:00.000Z  ...                          []   \n",
      "2                       NaN  ...                          []   \n",
      "3  1988-04-24T14:30:00.000Z  ...                          []   \n",
      "4                       NaN  ...                          []   \n",
      "\n",
      "  consultationData_prognosis consultationData_sharePrescription  \\\n",
      "0                         []                              False   \n",
      "1                         []                              False   \n",
      "2                         []                              False   \n",
      "3                         []                              False   \n",
      "4                         []                              False   \n",
      "\n",
      "  patientDetails_phrId patientDetails_chat__id patientDetails_customId  \\\n",
      "0                  NaN                     NaN                     NaN   \n",
      "1                  NaN                     NaN                     NaN   \n",
      "2         63b5hvy614d5                     NaN                     NaN   \n",
      "3             644nig7y                     NaN                     NaN   \n",
      "4                  NaN                     NaN                     NaN   \n",
      "\n",
      "  patientDetails_chat_channelId consultationData__id  \\\n",
      "0                           NaN                  NaN   \n",
      "1                           NaN                  NaN   \n",
      "2                           NaN                  NaN   \n",
      "3                           NaN                  NaN   \n",
      "4                           NaN                  NaN   \n",
      "\n",
      "  consultationData_updatedAt consultationData_createdAt  \n",
      "0                        NaN                        NaN  \n",
      "1                        NaN                        NaN  \n",
      "2                        NaN                        NaN  \n",
      "3                        NaN                        NaN  \n",
      "4                        NaN                        NaN  \n",
      "\n",
      "[5 rows x 43 columns]\n"
     ]
    }
   ],
   "source": [
    "import pandas as pd\n",
    "import json\n",
    "\n",
    "# Load the JSON file\n",
    "with open('/Users/nisargp/PycharmProjects/EDA/DataEngineeringQ2.json', 'r') as file:\n",
    "    data = json.load(file)\n",
    "\n",
    "# Normalize the JSON data to flatten nested columns\n",
    "df = pd.json_normalize(data, sep='_')\n",
    "\n",
    "# Display the dataframe\n",
    "print(df.head())\n"
   ]
  },
  {
   "cell_type": "code",
   "outputs": [
    {
     "name": "stdout",
     "output_type": "stream",
     "text": [
      "  appointmentId patientDetails_firstName patientDetails_lastName  \\\n",
      "0     40d2-9c9f                      Css                           \n",
      "1     40d2-9c9f                      Css                           \n",
      "2      40dbtc9f                   Lokesh                           \n",
      "3      40dbtc9f                   Lokesh                           \n",
      "4      g3Wt5c9f                    Shila                     Das   \n",
      "\n",
      "  patientDetails_gender  patientDetails_birthDate  phoneNumber medicineName  \\\n",
      "0                                            None  96686896670            A   \n",
      "1                                            None  96686896670            B   \n",
      "2                     M  1996-05-16T18:30:00.000Z   9496368916            A   \n",
      "3                     M  1996-05-16T18:30:00.000Z   9496368916            C   \n",
      "4                   NaN                       NaN   7787204833            B   \n",
      "\n",
      "  frequency duration durationIn instruction  \n",
      "0     1-0-1       90       DAYS  AFTER MEAL  \n",
      "1     1-0-1       90       DAYS  AFTER MEAL  \n",
      "2     1-0-1       90       DAYS  AFTER MEAL  \n",
      "3     1-0-1       30       DAYS  AFTER MEAL  \n",
      "4     1-0-1       10       DAYS  AFTER MEAL  \n"
     ]
    }
   ],
   "source": [
    "# Extract relevant columns for analysis\n",
    "patient_data = df[['appointmentId', 'patientDetails_firstName', 'patientDetails_lastName', 'patientDetails_gender', 'patientDetails_birthDate', 'phoneNumber', 'consultationData_medicines']]\n",
    "\n",
    "# Expanding the list to seperate rows\n",
    "medicines_data = patient_data.explode('consultationData_medicines').reset_index(drop=True)\n",
    "\n",
    "# Normalize the medicines column\n",
    "medicines_normalized = pd.json_normalize(medicines_data['consultationData_medicines'])\n",
    "medicines_data = pd.concat([medicines_data.drop(columns=['consultationData_medicines']), medicines_normalized], axis=1)\n",
    "\n",
    "# Doping the unnecessary columns\n",
    "medicines_data = medicines_data.drop(columns=['medicineId', 'medicineNameStrengthType', 'isActive'])\n",
    "\n",
    "# Display the transformed data\n",
    "print(medicines_data.head())\n"
   ],
   "metadata": {
    "collapsed": false,
    "ExecuteTime": {
     "end_time": "2024-07-19T04:34:45.464413Z",
     "start_time": "2024-07-19T04:34:45.451066Z"
    }
   },
   "id": "1369dbff6e531899",
   "execution_count": 2
  },
  {
   "cell_type": "code",
   "outputs": [
    {
     "name": "stdout",
     "output_type": "stream",
     "text": [
      "Missing Values:\n",
      " appointmentId                0\n",
      "patientDetails_firstName     0\n",
      "patientDetails_lastName      0\n",
      "patientDetails_gender       18\n",
      "patientDetails_birthDate    23\n",
      "phoneNumber                  0\n",
      "medicineName                 6\n",
      "frequency                    6\n",
      "duration                     6\n",
      "durationIn                   6\n",
      "instruction                  6\n",
      "dtype: int64\n",
      "Invalid Phone Numbers:\n",
      "    appointmentId patientDetails_firstName patientDetails_lastName  \\\n",
      "23       86U8Y45                   Satish                           \n",
      "27       E4u5Ea2             Satyanaaryan                           \n",
      "31       04Re22d                   Tejpal                           \n",
      "32       04Re22d                   Tejpal                           \n",
      "40     f7r501cb1                   Kushal                           \n",
      "41    cf092c8t6c                   Daniya                   Zehra   \n",
      "63      D3fFr42c                  Santosh                           \n",
      "\n",
      "   patientDetails_gender  patientDetails_birthDate phoneNumber medicineName  \\\n",
      "23                   NaN  1970-05-16T18:30:00.000Z                      NaN   \n",
      "27                   NaN                       NaN                      NaN   \n",
      "31                     M  1972-05-16T18:30:00.000Z                        C   \n",
      "32                     M  1972-05-16T18:30:00.000Z                        A   \n",
      "40                   NaN                       NaN                      NaN   \n",
      "41                     F  2001-08-27T00:00:00.000Z   992727892            D   \n",
      "63                     F  1972-05-16T18:30:00.000Z                      NaN   \n",
      "\n",
      "   frequency duration durationIn instruction  \n",
      "23       NaN      NaN        NaN         NaN  \n",
      "27       NaN      NaN        NaN         NaN  \n",
      "31     1-0-1       90       DAYS  AFTER MEAL  \n",
      "32     1-0-1       90       DAYS  AFTER MEAL  \n",
      "40       NaN      NaN        NaN         NaN  \n",
      "41     1-0-1       90       DAYS  AFTER MEAL  \n",
      "63       NaN      NaN        NaN         NaN  \n",
      "Invalid Birth Dates:\n",
      "    appointmentId  patientDetails_firstName patientDetails_lastName  \\\n",
      "0      40d2-9c9f                       Css                           \n",
      "1      40d2-9c9f                       Css                           \n",
      "4       g3Wt5c9f                     Shila                     Das   \n",
      "5       g3Wt5c9f                     Shila                     Das   \n",
      "6       g3Wt5c9f                     Shila                     Das   \n",
      "8        67h7KL9                Raghu Viju                           \n",
      "9        67h7KL9                Raghu Viju                           \n",
      "16      e8056Ye8                      Ravi                           \n",
      "27       E4u5Ea2              Satyanaaryan                           \n",
      "36       I8eW201                  Dhanamma                           \n",
      "37       I8eW201                  Dhanamma                           \n",
      "38       I8eW201                  Dhanamma                           \n",
      "39       I8eW201                  Dhanamma                           \n",
      "40     f7r501cb1                    Kushal                           \n",
      "49      cc86re0f  VITTHAL SHANKARRAO GHATE                           \n",
      "50      cc86re0f  VITTHAL SHANKARRAO GHATE                           \n",
      "51      cc86re0f  VITTHAL SHANKARRAO GHATE                           \n",
      "53        bcWe50                    Suresh                 Gaikwad   \n",
      "54        bcWe50                    Suresh                 Gaikwad   \n",
      "55        bcWe50                    Suresh                 Gaikwad   \n",
      "56        bcWe50                    Suresh                 Gaikwad   \n",
      "57       7au8se3                 Govardhan                           \n",
      "58       7au8se3                 Govardhan                           \n",
      "\n",
      "   patientDetails_gender patientDetails_birthDate    phoneNumber medicineName  \\\n",
      "0                                             NaT    96686896670            A   \n",
      "1                                             NaT    96686896670            B   \n",
      "4                    NaN                      NaT     7787204833            B   \n",
      "5                    NaN                      NaT     7787204833            A   \n",
      "6                    NaN                      NaT     7787204833            C   \n",
      "8                    NaN                      NaT     5267384241            D   \n",
      "9                    NaN                      NaT     5267384241            A   \n",
      "16                   NaN                      NaT     5586958767            A   \n",
      "27                   NaN                      NaT                         NaN   \n",
      "36                     F                      NaT     9064537237            A   \n",
      "37                     F                      NaT     9064537237            B   \n",
      "38                     F                      NaT     9064537237            C   \n",
      "39                     F                      NaT     9064537237            D   \n",
      "40                   NaN                      NaT                         NaN   \n",
      "49                   NaN                      NaT  +917938475936            A   \n",
      "50                   NaN                      NaT  +917938475936            B   \n",
      "51                   NaN                      NaT  +917938475936            C   \n",
      "53                   NaN                      NaT  +916883788633            D   \n",
      "54                   NaN                      NaT  +916883788633            A   \n",
      "55                   NaN                      NaT  +916883788633            E   \n",
      "56                   NaN                      NaT  +916883788633            C   \n",
      "57                   NaN                      NaT  +916636278363            C   \n",
      "58                   NaN                      NaT  +916636278363            D   \n",
      "\n",
      "   frequency duration durationIn instruction  \n",
      "0      1-0-1       90       DAYS  AFTER MEAL  \n",
      "1      1-0-1       90       DAYS  AFTER MEAL  \n",
      "4      1-0-1       10       DAYS  AFTER MEAL  \n",
      "5      1-0-1       60       DAYS  AFTER MEAL  \n",
      "6      1-0-1       90       DAYS  AFTER MEAL  \n",
      "8      1-1-1       90       DAYS  AFTER MEAL  \n",
      "9      1-0-1       90       DAYS  AFTER MEAL  \n",
      "16     1-0-1       90       DAYS  AFTER MEAL  \n",
      "27       NaN      NaN        NaN         NaN  \n",
      "36     1-0-1       90       DAYS  AFTER MEAL  \n",
      "37     1-0-1       90       DAYS  AFTER MEAL  \n",
      "38     1-0-1       90       DAYS  AFTER MEAL  \n",
      "39     1-0-1       90       DAYS  AFTER MEAL  \n",
      "40       NaN      NaN        NaN         NaN  \n",
      "49     1-0-1       90       DAYS  AFTER MEAL  \n",
      "50     1-0-1       90       DAYS  AFTER MEAL  \n",
      "51     1-0-1       90       DAYS  AFTER MEAL  \n",
      "53     1-0-1       90       DAYS  AFTER MEAL  \n",
      "54     1-0-1       90       DAYS  AFTER MEAL  \n",
      "55     1-0-1       90       DAYS  AFTER MEAL  \n",
      "56     1-0-1       90       DAYS  AFTER MEAL  \n",
      "57     1-0-1       90       DAYS  AFTER MEAL  \n",
      "58     1-0-1       90       DAYS  AFTER MEAL  \n"
     ]
    }
   ],
   "source": [
    "# Check for missing values\n",
    "missing_values = medicines_data.isnull().sum()\n",
    "print(\"Missing Values:\\n\", missing_values)\n",
    "\n",
    "# Validate phone numbers \n",
    "invalid_phone_numbers = medicines_data[~medicines_data['phoneNumber'].str.match(r'^\\+?\\d{10,15}$')]\n",
    "print(\"Invalid Phone Numbers:\\n\", invalid_phone_numbers)\n",
    "\n",
    "# Validate birth dates \n",
    "medicines_data['patientDetails_birthDate'] = pd.to_datetime(medicines_data['patientDetails_birthDate'], errors='coerce')\n",
    "invalid_birth_dates = medicines_data[medicines_data['patientDetails_birthDate'].isnull()]\n",
    "print(\"Invalid Birth Dates:\\n\", invalid_birth_dates)\n"
   ],
   "metadata": {
    "collapsed": false,
    "ExecuteTime": {
     "end_time": "2024-07-19T04:34:53.216528Z",
     "start_time": "2024-07-19T04:34:53.194061Z"
    }
   },
   "id": "a82116b06178ca50",
   "execution_count": 3
  },
  {
   "cell_type": "code",
   "outputs": [
    {
     "name": "stdout",
     "output_type": "stream",
     "text": [
      "Medicine Prescription Frequency:\n",
      "   medicineName  count\n",
      "0            A     17\n",
      "1            D     17\n",
      "2            C     13\n",
      "3            B     12\n",
      "4            E      6\n",
      "5            G      1\n"
     ]
    }
   ],
   "source": [
    "# Aggregate data to get medicine prescription frequency\n",
    "medicine_frequency = medicines_data['medicineName'].value_counts().reset_index()\n",
    "medicine_frequency.columns = ['medicineName', 'count']\n",
    "\n",
    "# Display the insights\n",
    "print(\"Medicine Prescription Frequency:\\n\", medicine_frequency)\n"
   ],
   "metadata": {
    "collapsed": false,
    "ExecuteTime": {
     "end_time": "2024-07-19T04:34:59.059031Z",
     "start_time": "2024-07-19T04:34:59.052519Z"
    }
   },
   "id": "24d7fa409c4dac83",
   "execution_count": 4
  },
  {
   "cell_type": "code",
   "outputs": [
    {
     "data": {
      "text/plain": "(patientDetails_gender\n M    50.000000\n F    45.454545\n       4.545455\n Name: proportion, dtype: float64,\n ageGroup\n Adult     100.0\n Child       0.0\n Teen        0.0\n Senior      0.0\n Name: proportion, dtype: float64,\n medicineName\n A    17\n D    17\n C    13\n B    12\n E     6\n G     1\n Name: count, dtype: int64,\n ageGroup\n Child          NaN\n Teen           NaN\n Adult     2.142857\n Senior         NaN\n Name: number_of_medicines, dtype: float64,\n isValidMobile\n True     58.064516\n False    41.935484\n Name: proportion, dtype: float64,\n                           age  number_of_medicines\n age                  1.000000            -0.218589\n number_of_medicines -0.218589             1.000000,\n patientDetails_gender     F   M\n ageGroup                       \n Child                  0  0   0\n Teen                   0  0   0\n Adult                  0  9  11\n Senior                 0  0   0)"
     },
     "execution_count": 23,
     "metadata": {},
     "output_type": "execute_result"
    }
   ],
   "source": [
    "# Gender Distribution\n",
    "gender_distribution = df['patientDetails_gender'].value_counts(normalize=True) * 100\n",
    "\n",
    "# Age Group Distribution\n",
    "age_group_distribution = df['ageGroup'].value_counts(normalize=True) * 100\n",
    "\n",
    "# Most Commonly Prescribed Medicines\n",
    "common_medicines = medicines_data['medicineName'].value_counts().head(10)\n",
    "\n",
    "# Average Number of Medicines per Age Group\n",
    "average_medicines_per_age_group = df.groupby('ageGroup')['number_of_medicines'].mean()\n",
    "\n",
    "# Distribution of Valid and Invalid Phone Numbers\n",
    "phone_number_validity = df['isValidMobile'].value_counts(normalize=True) * 100\n",
    "\n",
    "# Correlation Matrix\n",
    "correlation_data = df[['age', 'number_of_medicines']]\n",
    "correlation_matrix = correlation_data.corr()\n",
    "\n",
    "# Appointments Distribution by Age Group and Gender\n",
    "appointments_distribution = df.groupby(['ageGroup', 'patientDetails_gender']).size().unstack().fillna(0)\n",
    "\n",
    "gender_distribution, age_group_distribution, common_medicines, average_medicines_per_age_group, phone_number_validity, correlation_matrix, appointments_distribution\n"
   ],
   "metadata": {
    "collapsed": false,
    "ExecuteTime": {
     "end_time": "2024-07-19T04:54:33.482639Z",
     "start_time": "2024-07-19T04:54:33.463990Z"
    }
   },
   "id": "eb0cdd1189a7ecc3",
   "execution_count": 23
  },
  {
   "cell_type": "code",
   "outputs": [
    {
     "data": {
      "text/plain": "<Figure size 1400x1000 with 4 Axes>",
      "image/png": "[encoded data removed]"
     },
     "metadata": {},
     "output_type": "display_data"
    }
   ],
   "source": [
    "# Visualizations\n",
    "\n",
    "import matplotlib.pyplot as plt\n",
    "\n",
    "# Set up the matplotlib figure\n",
    "plt.figure(figsize=(14, 10))\n",
    "\n",
    "# Plot Gender Distribution\n",
    "plt.subplot(2, 2, 1)\n",
    "gender_distribution.plot(kind='bar', color=['skyblue', 'pink', 'gray'])\n",
    "plt.title('Gender Distribution')\n",
    "plt.xlabel('Gender')\n",
    "plt.ylabel('Percentage')\n",
    "\n",
    "# Plot Age Group Distribution\n",
    "plt.subplot(2, 2, 2)\n",
    "age_group_distribution.plot(kind='bar', color='green')\n",
    "plt.title('Age Group Distribution')\n",
    "plt.xlabel('Age Group')\n",
    "plt.ylabel('Percentage')\n",
    "\n",
    "# Plot Most Commonly Prescribed Medicines\n",
    "plt.subplot(2, 2, 3)\n",
    "common_medicines.plot(kind='bar', color='orange')\n",
    "plt.title('Most Commonly Prescribed Medicines')\n",
    "plt.xlabel('Medicine Name')\n",
    "plt.ylabel('Count')\n",
    "\n",
    "# Plot Distribution of Valid and Invalid Phone Numbers\n",
    "plt.subplot(2, 2, 4)\n",
    "phone_number_validity.plot(kind='bar', color=['lightgreen', 'salmon'])\n",
    "plt.title('Phone Number Validity Distribution')\n",
    "plt.xlabel('Validity')\n",
    "plt.ylabel('Percentage')\n",
    "\n",
    "# Adjust layout\n",
    "plt.tight_layout()\n",
    "plt.show()\n"
   ],
   "metadata": {
    "collapsed": false,
    "ExecuteTime": {
     "end_time": "2024-07-19T04:55:14.033106Z",
     "start_time": "2024-07-19T04:55:12.687466Z"
    }
   },
   "id": "7259a905e40cbee1",
   "execution_count": 24
  },
  {
   "cell_type": "code",
   "outputs": [
    {
     "name": "stderr",
     "output_type": "stream",
     "text": [
      "/var/folders/bm/gdcfqs196fl9vf7w95gf55k40000gn/T/ipykernel_1809/1403471620.py:15: SettingWithCopyWarning: \n",
      "A value is trying to be set on a copy of a slice from a DataFrame\n",
      "\n",
      "See the caveats in the documentation: https://pandas.pydata.org/pandas-docs/stable/user_guide/indexing.html#returning-a-view-versus-a-copy\n",
      "  patient_data.replace('', pd.NA, inplace=True)\n"
     ]
    },
    {
     "data": {
      "text/plain": "'0.0, 70.97, 32.26'"
     },
     "execution_count": 9,
     "metadata": {},
     "output_type": "execute_result"
    }
   ],
   "source": [
    "# Question-4\n",
    "import pandas as pd\n",
    "import json\n",
    "with open('/Users/nisargp/PycharmProjects/EDA/DataEngineeringQ2.json', 'r') as file:\n",
    "    data = json.load(file)\n",
    "\n",
    "# Normalize the JSON data to flatten nested columns\n",
    "df = pd.json_normalize(data, sep='_')\n",
    "\n",
    "# Extract relevant columns for analysis\n",
    "patient_data = df[['patientDetails_firstName', 'patientDetails_lastName', 'patientDetails_birthDate']]\n",
    "\n",
    "# Replacin null values and empty string with NaN\n",
    "patient_data.replace('', pd.NA, inplace=True)\n",
    "\n",
    "# Calculate the percentage of missing values for specified columns\n",
    "missing_percentage = patient_data.isna().mean() * 100\n",
    "\n",
    "# Extract the relevant percentages and round them to 2 decimal places\n",
    "first_name_missing = round(missing_percentage['patientDetails_firstName'], 2)\n",
    "last_name_missing = round(missing_percentage['patientDetails_lastName'], 2)\n",
    "dob_missing = round(missing_percentage['patientDetails_birthDate'], 2)\n",
    "\n",
    "# Format the result as comma separated values\n",
    "result = f\"{first_name_missing}, {last_name_missing}, {dob_missing}\"\n",
    "result\n"
   ],
   "metadata": {
    "collapsed": false,
    "ExecuteTime": {
     "end_time": "2024-07-19T04:36:46.106866Z",
     "start_time": "2024-07-19T04:36:46.094011Z"
    }
   },
   "id": "135e7731606d6bac",
   "execution_count": 9
  },
  {
   "cell_type": "code",
   "outputs": [
    {
     "name": "stderr",
     "output_type": "stream",
     "text": [
      "/var/folders/bm/gdcfqs196fl9vf7w95gf55k40000gn/T/ipykernel_1809/3881381252.py:7: SettingWithCopyWarning: \n",
      "A value is trying to be set on a copy of a slice from a DataFrame\n",
      "\n",
      "See the caveats in the documentation: https://pandas.pydata.org/pandas-docs/stable/user_guide/indexing.html#returning-a-view-versus-a-copy\n",
      "  gender_data.replace('', pd.NA, inplace=True)\n",
      "/var/folders/bm/gdcfqs196fl9vf7w95gf55k40000gn/T/ipykernel_1809/3881381252.py:13: SettingWithCopyWarning: \n",
      "A value is trying to be set on a copy of a slice from a DataFrame\n",
      "\n",
      "See the caveats in the documentation: https://pandas.pydata.org/pandas-docs/stable/user_guide/indexing.html#returning-a-view-versus-a-copy\n",
      "  gender_data['patientDetails_gender'].fillna(mode_gender, inplace=True)\n"
     ]
    },
    {
     "data": {
      "text/plain": "32.26"
     },
     "execution_count": 10,
     "metadata": {},
     "output_type": "execute_result"
    }
   ],
   "source": [
    "#Question-5\n",
    "\n",
    "# Extract the gender column for analysis\n",
    "gender_data = df[['patientDetails_gender']]\n",
    "\n",
    "# Replace empty strings with NaN for accurate mode calculation\n",
    "gender_data.replace('', pd.NA, inplace=True)\n",
    "\n",
    "# Calculate the mode of the gender column\n",
    "mode_gender = gender_data['patientDetails_gender'].mode()[0]\n",
    "\n",
    "# Fill missing values with the mode\n",
    "gender_data['patientDetails_gender'].fillna(mode_gender, inplace=True)\n",
    "\n",
    "# Calculate the percentage of female gender after imputation\n",
    "female_percentage = (gender_data['patientDetails_gender'] == 'F').mean() * 100\n",
    "female_percentage_rounded = round(female_percentage, 2)\n",
    "\n",
    "female_percentage_rounded\n"
   ],
   "metadata": {
    "collapsed": false,
    "ExecuteTime": {
     "end_time": "2024-07-19T04:38:33.738660Z",
     "start_time": "2024-07-19T04:38:33.731870Z"
    }
   },
   "id": "88004baaee312265",
   "execution_count": 10
  },
  {
   "cell_type": "code",
   "outputs": [
    {
     "data": {
      "text/plain": "21"
     },
     "execution_count": 15,
     "metadata": {},
     "output_type": "execute_result"
    }
   ],
   "source": [
    "#Question-6\n",
    "\n",
    "# Ensure all date comparisons are timezone naive\n",
    "current_date = pd.Timestamp.now().normalize()\n",
    "\n",
    "# Convert birthDate to datetime without timezone information\n",
    "df['patientDetails_birthDate'] = pd.to_datetime(df['patientDetails_birthDate'], errors='coerce').dt.tz_localize(None)\n",
    "\n",
    "# Calculate the age\n",
    "df['age'] = (current_date - df['patientDetails_birthDate']).dt.days // 365\n",
    "\n",
    "# Define age groups\n",
    "choices = ['Child', 'Teen', 'Adult', 'Senior']\n",
    "df['ageGroup'] = pd.cut(df['age'], bins=[-1, 12, 19, 59, float('inf')], labels=choices)\n",
    "\n",
    "# Count the number of Adults\n",
    "adult_count = df['ageGroup'].value_counts().get('Adult', 0)\n",
    "adult_count\n",
    "\n"
   ],
   "metadata": {
    "collapsed": false,
    "ExecuteTime": {
     "end_time": "2024-07-19T04:42:52.259379Z",
     "start_time": "2024-07-19T04:42:52.248539Z"
    }
   },
   "id": "665ebe39e06c698c",
   "execution_count": 15
  },
  {
   "cell_type": "code",
   "outputs": [
    {
     "data": {
      "text/plain": "2.13"
     },
     "execution_count": 16,
     "metadata": {},
     "output_type": "execute_result"
    }
   ],
   "source": [
    "# Question-7\n",
    "# Calculate the number of medicines prescribed for each appointment\n",
    "df['number_of_medicines'] = df['consultationData_medicines'].apply(lambda x: len(x))\n",
    "\n",
    "# Calculate the average number of medicines prescribed\n",
    "average_medicines = df['number_of_medicines'].mean()\n",
    "average_medicines_rounded = round(average_medicines, 2)\n",
    "\n",
    "average_medicines_rounded\n"
   ],
   "metadata": {
    "collapsed": false,
    "ExecuteTime": {
     "end_time": "2024-07-19T04:44:57.408896Z",
     "start_time": "2024-07-19T04:44:57.403880Z"
    }
   },
   "id": "499371b9571a7b45",
   "execution_count": 16
  },
  {
   "cell_type": "code",
   "outputs": [
    {
     "data": {
      "text/plain": "'C'"
     },
     "execution_count": 17,
     "metadata": {},
     "output_type": "execute_result"
    }
   ],
   "source": [
    "# Question-8\n",
    "# Extract the medicines list and expand it into separate rows\n",
    "medicines_data = df[['consultationData_medicines']].explode('consultationData_medicines').reset_index(drop=True)\n",
    "\n",
    "# Normalize the medicines column\n",
    "medicines_normalized = pd.json_normalize(medicines_data['consultationData_medicines'])\n",
    "medicines_data = pd.concat([medicines_data.drop(columns=['consultationData_medicines']), medicines_normalized], axis=1)\n",
    "\n",
    "# Count the frequency of each medicine name\n",
    "medicine_frequency = medicines_data['medicineName'].value_counts()\n",
    "\n",
    "# Get the 3rd most frequently prescribed medicine name\n",
    "third_most_frequent_medicine = medicine_frequency.index[2]\n",
    "third_most_frequent_medicine\n"
   ],
   "metadata": {
    "collapsed": false,
    "ExecuteTime": {
     "end_time": "2024-07-19T04:45:06.302317Z",
     "start_time": "2024-07-19T04:45:06.294574Z"
    }
   },
   "id": "a35d5794d090cd11",
   "execution_count": 17
  },
  {
   "cell_type": "code",
   "outputs": [
    {
     "data": {
      "text/plain": "'69.7, 30.3'"
     },
     "execution_count": 18,
     "metadata": {},
     "output_type": "execute_result"
    }
   ],
   "source": [
    "# Question-9\n",
    "# Count the frequency of active and inactive medicines\n",
    "active_inactive_counts = medicines_data['isActive'].value_counts(normalize=True) * 100\n",
    "\n",
    "# Get the percentages of active and inactive medicines\n",
    "active_percentage = round(active_inactive_counts[True], 2)\n",
    "inactive_percentage = round(active_inactive_counts[False], 2)\n",
    "\n",
    "# Format the result as comma separated values\n",
    "result = f\"{active_percentage}, {inactive_percentage}\"\n",
    "result\n"
   ],
   "metadata": {
    "collapsed": false,
    "ExecuteTime": {
     "end_time": "2024-07-19T04:45:12.527530Z",
     "start_time": "2024-07-19T04:45:12.522777Z"
    }
   },
   "id": "1e5af03bfd40abc1",
   "execution_count": 18
  },
  {
   "cell_type": "code",
   "outputs": [
    {
     "data": {
      "text/plain": "18"
     },
     "execution_count": 19,
     "metadata": {},
     "output_type": "execute_result"
    }
   ],
   "source": [
    "# Question-10\n",
    "# Define a function to check if a phone number is valid\n",
    "def is_valid_indian_phone_number(phone):\n",
    "    # Remove any prefix '+91' or '91'\n",
    "    if phone.startswith('+91'):\n",
    "        phone = phone[3:]\n",
    "    elif phone.startswith('91'):\n",
    "        phone = phone[2:]\n",
    "    \n",
    "    # Check if the remaining part is a valid 10-digit number and lies within the valid range\n",
    "    if phone.isdigit() and len(phone) == 10 and 6000000000 <= int(phone) <= 9999999999:\n",
    "        return True\n",
    "    else:\n",
    "        return False\n",
    "\n",
    "# Apply the validation function to the phoneNumber column\n",
    "df['isValidMobile'] = df['phoneNumber'].apply(is_valid_indian_phone_number)\n",
    "\n",
    "# Count the number of valid phone numbers\n",
    "valid_phone_numbers_count = df['isValidMobile'].sum()\n",
    "\n",
    "valid_phone_numbers_count\n"
   ],
   "metadata": {
    "collapsed": false,
    "ExecuteTime": {
     "end_time": "2024-07-19T04:45:19.430560Z",
     "start_time": "2024-07-19T04:45:19.424857Z"
    }
   },
   "id": "98a1722c5e3ed42",
   "execution_count": 19
  },
  {
   "cell_type": "code",
   "outputs": [
    {
     "data": {
      "text/plain": "-0.22"
     },
     "execution_count": 22,
     "metadata": {},
     "output_type": "execute_result"
    }
   ],
   "source": [
    "# Question-11\n",
    "combined_data = pd.concat([df['age'], df['number_of_medicines']], axis=1).dropna()\n",
    "\n",
    "# Calculate the Pearson correlation\n",
    "correlation = combined_data.corr(method='pearson').iloc[0, 1]\n",
    "correlation_rounded = round(correlation, 2)\n",
    "\n",
    "correlation_rounded\n"
   ],
   "metadata": {
    "collapsed": false,
    "ExecuteTime": {
     "end_time": "2024-07-19T04:46:31.771776Z",
     "start_time": "2024-07-19T04:46:31.766267Z"
    }
   },
   "id": "23a9d871e42ba9ca",
   "execution_count": 22
  },
  {
   "cell_type": "code",
   "outputs": [],
   "source": [],
   "metadata": {
    "collapsed": false
   },
   "id": "ecc9576049e3794"
  }
 ],
 "metadata": {
  "kernelspec": {
   "display_name": "Python 3",
   "language": "python",
   "name": "python3"
  },
  "language_info": {
   "codemirror_mode": {
    "name": "ipython",
    "version": 2
   },
   "file_extension": ".py",
   "mimetype": "text/x-python",
   "name": "python",
   "nbconvert_exporter": "python",
   "pygments_lexer": "ipython2",
   "version": "2.7.6"
  }
 },
 "nbformat": 4,
 "nbformat_minor": 5
}
